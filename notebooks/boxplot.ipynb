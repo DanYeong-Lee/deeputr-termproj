{
 "cells": [
  {
   "cell_type": "code",
   "execution_count": 4,
   "metadata": {},
   "outputs": [],
   "source": [
    "import os, sys\n",
    "sys.path.append(os.pardir)\n",
    "import numpy as np\n",
    "import pandas as pd\n",
    "%matplotlib inline\n",
    "import matplotlib.pyplot as plt\n",
    "import seaborn as sns\n",
    "from statannot import add_stat_annotation\n",
    "import torch\n",
    "from torch.nn.functional import mse_loss\n",
    "from torchmetrics.functional import pearson_corrcoef\n",
    "import pytorch_lightning as pl\n",
    "from src.datamodules.datamodule import BaseDataModule\n",
    "from src.datamodules.components.dataset import BaseDataset\n",
    "from src.models.model import BaseNet\n",
    "from src.models.components.cnn import CNN\n",
    "from src.models.components.rnn import RNN\n",
    "from src.models.components.deepfam import DeepFam\n",
    "from src.models.components.cnntrfm_pe import CNNTRFM_PE2\n",
    "from src.models.components.cnnrnntrfm import CNNRNNTRFM"
   ]
  },
  {
   "cell_type": "code",
   "execution_count": 5,
   "metadata": {},
   "outputs": [],
   "source": [
    "def evaluate(preds, targets):\n",
    "    per_reporter_rmse = []\n",
    "    per_reporter_corr = []\n",
    "    per_timepoint_rmse = []\n",
    "    per_timepoint_corr = []\n",
    "    for i in range(preds.size(0)):\n",
    "        rmse = mse_loss(preds[i], targets[i]).sqrt().item()\n",
    "        corr = pearson_corrcoef(preds[i], targets[i]).item()\n",
    "        per_reporter_rmse.append(rmse)\n",
    "        per_reporter_corr.append(corr)\n",
    "    for j in range(preds.size(1)):\n",
    "        rmse = mse_loss(preds[:, j], targets[:, j]).sqrt().item()\n",
    "        corr = pearson_corrcoef(preds[:, j], targets[:, j]).item()\n",
    "        per_timepoint_rmse.append(rmse)\n",
    "        per_timepoint_corr.append(corr)\n",
    "    per_reporter_rmse = np.array(per_reporter_rmse)\n",
    "    per_reporter_corr = np.array(per_reporter_corr)\n",
    "    per_timepoint_rmse = np.array(per_timepoint_rmse)\n",
    "    per_timepoint_corr = np.array(per_timepoint_corr)\n",
    "    \n",
    "    return per_reporter_rmse, per_reporter_corr, per_timepoint_rmse, per_timepoint_corr"
   ]
  },
  {
   "cell_type": "code",
   "execution_count": 6,
   "metadata": {},
   "outputs": [],
   "source": [
    "def get_ensemble_pred(model, dm, trainer, ckpts):\n",
    "    \n",
    "    preds = []\n",
    "    for ckpt in ckpts:\n",
    "        results = trainer.predict(model=model, datamodule=dm, ckpt_path=ckpt)\n",
    "        temp_pred, temp_target = [], []\n",
    "        for pred, target in results:\n",
    "            temp_pred.append(pred)\n",
    "            temp_target.append(target)\n",
    "        preds.append(torch.cat(temp_pred, axis=0).unsqueeze(-1))\n",
    "        targets = torch.cat(temp_target, axis=0)\n",
    "    preds = torch.cat(preds, axis=-1).mean(-1)\n",
    "    \n",
    "    return preds, targets"
   ]
  },
  {
   "cell_type": "code",
   "execution_count": 7,
   "metadata": {},
   "outputs": [],
   "source": [
    "per_reporter_rmses, per_reporter_corrs, per_timepoint_rmses, per_timepoint_corrs = [], [], [], []"
   ]
  },
  {
   "cell_type": "code",
   "execution_count": 8,
   "metadata": {
    "collapsed": true,
    "jupyter": {
     "outputs_hidden": true
    }
   },
   "outputs": [
    {
     "name": "stderr",
     "output_type": "stream",
     "text": [
      "GPU available: True, used: True\n",
      "TPU available: False, using: 0 TPU cores\n",
      "IPU available: False, using: 0 IPUs\n",
      "HPU available: False, using: 0 HPUs\n",
      "Missing logger folder: /data/project/danyoung/deeputr-termproj/notebooks/lightning_logs\n",
      "Restoring states from the checkpoint path at ../logs/experiments/runs/CNN/ckpts/seed0.ckpt\n",
      "LOCAL_RANK: 0 - CUDA_VISIBLE_DEVICES: [0,1,2]\n",
      "2022-07-07 11:05:58.194099: I tensorflow/core/util/util.cc:169] oneDNN custom operations are on. You may see slightly different numerical results due to floating-point round-off errors from different computation orders. To turn them off, set the environment variable `TF_ENABLE_ONEDNN_OPTS=0`.\n",
      "Loaded model weights from checkpoint at ../logs/experiments/runs/CNN/ckpts/seed0.ckpt\n"
     ]
    },
    {
     "name": "stdout",
     "output_type": "stream",
     "text": [
      "Predicting DataLoader 0: 100%|██████████| 35/35 [00:04<00:00,  8.56it/s]\n"
     ]
    },
    {
     "name": "stderr",
     "output_type": "stream",
     "text": [
      "Restoring states from the checkpoint path at ../logs/experiments/runs/CNN/ckpts/seed1.ckpt\n",
      "LOCAL_RANK: 0 - CUDA_VISIBLE_DEVICES: [0,1,2]\n",
      "Loaded model weights from checkpoint at ../logs/experiments/runs/CNN/ckpts/seed1.ckpt\n"
     ]
    },
    {
     "name": "stdout",
     "output_type": "stream",
     "text": [
      "Predicting DataLoader 0: 100%|██████████| 35/35 [00:00<00:00, 57.21it/s] "
     ]
    },
    {
     "name": "stderr",
     "output_type": "stream",
     "text": [
      "Restoring states from the checkpoint path at ../logs/experiments/runs/CNN/ckpts/seed2.ckpt\n",
      "LOCAL_RANK: 0 - CUDA_VISIBLE_DEVICES: [0,1,2]\n",
      "Loaded model weights from checkpoint at ../logs/experiments/runs/CNN/ckpts/seed2.ckpt\n"
     ]
    },
    {
     "name": "stdout",
     "output_type": "stream",
     "text": [
      "\n",
      "Predicting DataLoader 0: 100%|██████████| 35/35 [00:00<00:00, 67.59it/s] "
     ]
    },
    {
     "name": "stderr",
     "output_type": "stream",
     "text": [
      "Restoring states from the checkpoint path at ../logs/experiments/runs/CNN/ckpts/seed3.ckpt\n"
     ]
    },
    {
     "name": "stdout",
     "output_type": "stream",
     "text": [
      "\n"
     ]
    },
    {
     "name": "stderr",
     "output_type": "stream",
     "text": [
      "LOCAL_RANK: 0 - CUDA_VISIBLE_DEVICES: [0,1,2]\n",
      "Loaded model weights from checkpoint at ../logs/experiments/runs/CNN/ckpts/seed3.ckpt\n"
     ]
    },
    {
     "name": "stdout",
     "output_type": "stream",
     "text": [
      "Predicting DataLoader 0: 100%|██████████| 35/35 [00:00<00:00, 61.62it/s] "
     ]
    },
    {
     "name": "stderr",
     "output_type": "stream",
     "text": [
      "Restoring states from the checkpoint path at ../logs/experiments/runs/CNN/ckpts/seed4.ckpt\n",
      "LOCAL_RANK: 0 - CUDA_VISIBLE_DEVICES: [0,1,2]\n",
      "Loaded model weights from checkpoint at ../logs/experiments/runs/CNN/ckpts/seed4.ckpt\n"
     ]
    },
    {
     "name": "stdout",
     "output_type": "stream",
     "text": [
      "\n",
      "Predicting DataLoader 0: 100%|██████████| 35/35 [00:00<00:00, 58.90it/s] "
     ]
    },
    {
     "name": "stderr",
     "output_type": "stream",
     "text": [
      "Restoring states from the checkpoint path at ../logs/experiments/runs/CNN/ckpts/seed5.ckpt\n",
      "LOCAL_RANK: 0 - CUDA_VISIBLE_DEVICES: [0,1,2]\n",
      "Loaded model weights from checkpoint at ../logs/experiments/runs/CNN/ckpts/seed5.ckpt\n"
     ]
    },
    {
     "name": "stdout",
     "output_type": "stream",
     "text": [
      "\n",
      "Predicting DataLoader 0: 100%|██████████| 35/35 [00:00<00:00, 53.04it/s] "
     ]
    },
    {
     "name": "stderr",
     "output_type": "stream",
     "text": [
      "Restoring states from the checkpoint path at ../logs/experiments/runs/CNN/ckpts/seed6.ckpt\n",
      "LOCAL_RANK: 0 - CUDA_VISIBLE_DEVICES: [0,1,2]\n",
      "Loaded model weights from checkpoint at ../logs/experiments/runs/CNN/ckpts/seed6.ckpt\n"
     ]
    },
    {
     "name": "stdout",
     "output_type": "stream",
     "text": [
      "\n",
      "Predicting DataLoader 0: 100%|██████████| 35/35 [00:00<00:00, 68.47it/s] "
     ]
    },
    {
     "name": "stderr",
     "output_type": "stream",
     "text": [
      "Restoring states from the checkpoint path at ../logs/experiments/runs/CNN/ckpts/seed7.ckpt\n",
      "LOCAL_RANK: 0 - CUDA_VISIBLE_DEVICES: [0,1,2]\n",
      "Loaded model weights from checkpoint at ../logs/experiments/runs/CNN/ckpts/seed7.ckpt\n"
     ]
    },
    {
     "name": "stdout",
     "output_type": "stream",
     "text": [
      "\n",
      "Predicting DataLoader 0: 100%|██████████| 35/35 [00:00<00:00, 65.37it/s] "
     ]
    },
    {
     "name": "stderr",
     "output_type": "stream",
     "text": [
      "Restoring states from the checkpoint path at ../logs/experiments/runs/CNN/ckpts/seed8.ckpt\n",
      "LOCAL_RANK: 0 - CUDA_VISIBLE_DEVICES: [0,1,2]\n",
      "Loaded model weights from checkpoint at ../logs/experiments/runs/CNN/ckpts/seed8.ckpt\n"
     ]
    },
    {
     "name": "stdout",
     "output_type": "stream",
     "text": [
      "\n",
      "Predicting DataLoader 0: 100%|██████████| 35/35 [00:00<00:00, 69.76it/s] "
     ]
    },
    {
     "name": "stderr",
     "output_type": "stream",
     "text": [
      "Restoring states from the checkpoint path at ../logs/experiments/runs/CNN/ckpts/seed9.ckpt\n",
      "LOCAL_RANK: 0 - CUDA_VISIBLE_DEVICES: [0,1,2]\n",
      "Loaded model weights from checkpoint at ../logs/experiments/runs/CNN/ckpts/seed9.ckpt\n"
     ]
    },
    {
     "name": "stdout",
     "output_type": "stream",
     "text": [
      "\n",
      "Predicting DataLoader 0: 100%|██████████| 35/35 [00:00<00:00, 75.52it/s] \n"
     ]
    }
   ],
   "source": [
    "model = BaseNet(CNN())\n",
    "dm = BaseDataModule(test_dir=\"/data/project/danyoung/deeputr-termproj/data/test_mac.csv\")\n",
    "trainer = pl.Trainer(gpus=[1])\n",
    "ckpts = [f\"../logs/experiments/runs/CNN/ckpts/seed{seed}.ckpt\" for seed in range(10)]\n",
    "\n",
    "preds, targets = get_ensemble_pred(model, dm, trainer, ckpts)\n",
    "a, b, c, d = evaluate(preds, targets)\n",
    "per_reporter_rmses.append(a)\n",
    "per_reporter_corrs.append(b) \n",
    "per_timepoint_rmses.append(c)\n",
    "per_timepoint_corrs.append(d)"
   ]
  },
  {
   "cell_type": "code",
   "execution_count": 9,
   "metadata": {
    "collapsed": true,
    "jupyter": {
     "outputs_hidden": true
    }
   },
   "outputs": [
    {
     "name": "stderr",
     "output_type": "stream",
     "text": [
      "/data/project/danyoung/miniconda3/envs/dream/lib/python3.8/site-packages/pytorch_lightning/loops/utilities.py:91: PossibleUserWarning: `max_epochs` was not set. Setting it to 1000 epochs. To train without an epoch limit, set `max_epochs=-1`.\n",
      "  rank_zero_warn(\n",
      "GPU available: True, used: True\n",
      "TPU available: False, using: 0 TPU cores\n",
      "IPU available: False, using: 0 IPUs\n",
      "HPU available: False, using: 0 HPUs\n",
      "Restoring states from the checkpoint path at ../logs/experiments/runs/deepfam_4kernels_channels256/ckpts/seed0.ckpt\n",
      "LOCAL_RANK: 0 - CUDA_VISIBLE_DEVICES: [0,1,2]\n",
      "Loaded model weights from checkpoint at ../logs/experiments/runs/deepfam_4kernels_channels256/ckpts/seed0.ckpt\n"
     ]
    },
    {
     "name": "stdout",
     "output_type": "stream",
     "text": [
      "Predicting DataLoader 0: 100%|██████████| 35/35 [00:00<00:00, 44.24it/s]"
     ]
    },
    {
     "name": "stderr",
     "output_type": "stream",
     "text": [
      "Restoring states from the checkpoint path at ../logs/experiments/runs/deepfam_4kernels_channels256/ckpts/seed1.ckpt\n"
     ]
    },
    {
     "name": "stdout",
     "output_type": "stream",
     "text": [
      "\n"
     ]
    },
    {
     "name": "stderr",
     "output_type": "stream",
     "text": [
      "LOCAL_RANK: 0 - CUDA_VISIBLE_DEVICES: [0,1,2]\n",
      "Loaded model weights from checkpoint at ../logs/experiments/runs/deepfam_4kernels_channels256/ckpts/seed1.ckpt\n"
     ]
    },
    {
     "name": "stdout",
     "output_type": "stream",
     "text": [
      "Predicting DataLoader 0: 100%|██████████| 35/35 [00:00<00:00, 51.12it/s]"
     ]
    },
    {
     "name": "stderr",
     "output_type": "stream",
     "text": [
      "Restoring states from the checkpoint path at ../logs/experiments/runs/deepfam_4kernels_channels256/ckpts/seed2.ckpt\n"
     ]
    },
    {
     "name": "stdout",
     "output_type": "stream",
     "text": [
      "\n"
     ]
    },
    {
     "name": "stderr",
     "output_type": "stream",
     "text": [
      "LOCAL_RANK: 0 - CUDA_VISIBLE_DEVICES: [0,1,2]\n",
      "Loaded model weights from checkpoint at ../logs/experiments/runs/deepfam_4kernels_channels256/ckpts/seed2.ckpt\n"
     ]
    },
    {
     "name": "stdout",
     "output_type": "stream",
     "text": [
      "Predicting DataLoader 0: 100%|██████████| 35/35 [00:00<00:00, 68.74it/s] "
     ]
    },
    {
     "name": "stderr",
     "output_type": "stream",
     "text": [
      "Restoring states from the checkpoint path at ../logs/experiments/runs/deepfam_4kernels_channels256/ckpts/seed3.ckpt\n",
      "LOCAL_RANK: 0 - CUDA_VISIBLE_DEVICES: [0,1,2]\n"
     ]
    },
    {
     "name": "stdout",
     "output_type": "stream",
     "text": [
      "\n"
     ]
    },
    {
     "name": "stderr",
     "output_type": "stream",
     "text": [
      "Loaded model weights from checkpoint at ../logs/experiments/runs/deepfam_4kernels_channels256/ckpts/seed3.ckpt\n"
     ]
    },
    {
     "name": "stdout",
     "output_type": "stream",
     "text": [
      "Predicting DataLoader 0: 100%|██████████| 35/35 [00:00<00:00, 59.50it/s] "
     ]
    },
    {
     "name": "stderr",
     "output_type": "stream",
     "text": [
      "Restoring states from the checkpoint path at ../logs/experiments/runs/deepfam_4kernels_channels256/ckpts/seed4.ckpt\n"
     ]
    },
    {
     "name": "stdout",
     "output_type": "stream",
     "text": [
      "\n"
     ]
    },
    {
     "name": "stderr",
     "output_type": "stream",
     "text": [
      "LOCAL_RANK: 0 - CUDA_VISIBLE_DEVICES: [0,1,2]\n",
      "Loaded model weights from checkpoint at ../logs/experiments/runs/deepfam_4kernels_channels256/ckpts/seed4.ckpt\n"
     ]
    },
    {
     "name": "stdout",
     "output_type": "stream",
     "text": [
      "Predicting DataLoader 0: 100%|██████████| 35/35 [00:00<00:00, 56.05it/s] "
     ]
    },
    {
     "name": "stderr",
     "output_type": "stream",
     "text": [
      "Restoring states from the checkpoint path at ../logs/experiments/runs/deepfam_4kernels_channels256/ckpts/seed5.ckpt\n"
     ]
    },
    {
     "name": "stdout",
     "output_type": "stream",
     "text": [
      "\n"
     ]
    },
    {
     "name": "stderr",
     "output_type": "stream",
     "text": [
      "LOCAL_RANK: 0 - CUDA_VISIBLE_DEVICES: [0,1,2]\n",
      "Loaded model weights from checkpoint at ../logs/experiments/runs/deepfam_4kernels_channels256/ckpts/seed5.ckpt\n"
     ]
    },
    {
     "name": "stdout",
     "output_type": "stream",
     "text": [
      "Predicting DataLoader 0: 100%|██████████| 35/35 [00:00<00:00, 63.08it/s] "
     ]
    },
    {
     "name": "stderr",
     "output_type": "stream",
     "text": [
      "Restoring states from the checkpoint path at ../logs/experiments/runs/deepfam_4kernels_channels256/ckpts/seed6.ckpt\n"
     ]
    },
    {
     "name": "stdout",
     "output_type": "stream",
     "text": [
      "\n"
     ]
    },
    {
     "name": "stderr",
     "output_type": "stream",
     "text": [
      "LOCAL_RANK: 0 - CUDA_VISIBLE_DEVICES: [0,1,2]\n",
      "Loaded model weights from checkpoint at ../logs/experiments/runs/deepfam_4kernels_channels256/ckpts/seed6.ckpt\n"
     ]
    },
    {
     "name": "stdout",
     "output_type": "stream",
     "text": [
      "Predicting DataLoader 0: 100%|██████████| 35/35 [00:00<00:00, 61.80it/s] "
     ]
    },
    {
     "name": "stderr",
     "output_type": "stream",
     "text": [
      "Restoring states from the checkpoint path at ../logs/experiments/runs/deepfam_4kernels_channels256/ckpts/seed7.ckpt\n",
      "LOCAL_RANK: 0 - CUDA_VISIBLE_DEVICES: [0,1,2]\n"
     ]
    },
    {
     "name": "stdout",
     "output_type": "stream",
     "text": [
      "\n"
     ]
    },
    {
     "name": "stderr",
     "output_type": "stream",
     "text": [
      "Loaded model weights from checkpoint at ../logs/experiments/runs/deepfam_4kernels_channels256/ckpts/seed7.ckpt\n"
     ]
    },
    {
     "name": "stdout",
     "output_type": "stream",
     "text": [
      "Predicting DataLoader 0: 100%|██████████| 35/35 [00:00<00:00, 73.38it/s] "
     ]
    },
    {
     "name": "stderr",
     "output_type": "stream",
     "text": [
      "Restoring states from the checkpoint path at ../logs/experiments/runs/deepfam_4kernels_channels256/ckpts/seed8.ckpt\n",
      "LOCAL_RANK: 0 - CUDA_VISIBLE_DEVICES: [0,1,2]\n"
     ]
    },
    {
     "name": "stdout",
     "output_type": "stream",
     "text": [
      "\n"
     ]
    },
    {
     "name": "stderr",
     "output_type": "stream",
     "text": [
      "Loaded model weights from checkpoint at ../logs/experiments/runs/deepfam_4kernels_channels256/ckpts/seed8.ckpt\n"
     ]
    },
    {
     "name": "stdout",
     "output_type": "stream",
     "text": [
      "Predicting DataLoader 0: 100%|██████████| 35/35 [00:00<00:00, 67.72it/s] "
     ]
    },
    {
     "name": "stderr",
     "output_type": "stream",
     "text": [
      "Restoring states from the checkpoint path at ../logs/experiments/runs/deepfam_4kernels_channels256/ckpts/seed9.ckpt\n",
      "LOCAL_RANK: 0 - CUDA_VISIBLE_DEVICES: [0,1,2]\n",
      "Loaded model weights from checkpoint at ../logs/experiments/runs/deepfam_4kernels_channels256/ckpts/seed9.ckpt\n"
     ]
    },
    {
     "name": "stdout",
     "output_type": "stream",
     "text": [
      "\n",
      "Predicting DataLoader 0: 100%|██████████| 35/35 [00:00<00:00, 61.67it/s] \n"
     ]
    }
   ],
   "source": [
    "model = BaseNet(DeepFam())\n",
    "dm = BaseDataModule(test_dir=\"/data/project/danyoung/deeputr-termproj/data/test_mac.csv\")\n",
    "trainer = pl.Trainer(gpus=[1])\n",
    "ckpts = [f\"../logs/experiments/runs/deepfam_4kernels_channels256/ckpts/seed{seed}.ckpt\" for seed in range(10)]\n",
    "\n",
    "preds, targets = get_ensemble_pred(model, dm, trainer, ckpts)\n",
    "a, b, c, d = evaluate(preds, targets)\n",
    "per_reporter_rmses.append(a)\n",
    "per_reporter_corrs.append(b) \n",
    "per_timepoint_rmses.append(c)\n",
    "per_timepoint_corrs.append(d)"
   ]
  },
  {
   "cell_type": "code",
   "execution_count": 10,
   "metadata": {
    "collapsed": true,
    "jupyter": {
     "outputs_hidden": true
    }
   },
   "outputs": [
    {
     "name": "stderr",
     "output_type": "stream",
     "text": [
      "/data/project/danyoung/miniconda3/envs/dream/lib/python3.8/site-packages/pytorch_lightning/loops/utilities.py:91: PossibleUserWarning: `max_epochs` was not set. Setting it to 1000 epochs. To train without an epoch limit, set `max_epochs=-1`.\n",
      "  rank_zero_warn(\n",
      "GPU available: True, used: True\n",
      "TPU available: False, using: 0 TPU cores\n",
      "IPU available: False, using: 0 IPUs\n",
      "HPU available: False, using: 0 HPUs\n",
      "Restoring states from the checkpoint path at ../logs/experiments/runs/rnn_base/ckpts/seed0.ckpt\n",
      "LOCAL_RANK: 0 - CUDA_VISIBLE_DEVICES: [0,1,2]\n",
      "Loaded model weights from checkpoint at ../logs/experiments/runs/rnn_base/ckpts/seed0.ckpt\n"
     ]
    },
    {
     "name": "stdout",
     "output_type": "stream",
     "text": [
      "Predicting DataLoader 0: 100%|██████████| 35/35 [00:00<00:00, 46.79it/s]"
     ]
    },
    {
     "name": "stderr",
     "output_type": "stream",
     "text": [
      "Restoring states from the checkpoint path at ../logs/experiments/runs/rnn_base/ckpts/seed1.ckpt\n",
      "LOCAL_RANK: 0 - CUDA_VISIBLE_DEVICES: [0,1,2]\n",
      "Loaded model weights from checkpoint at ../logs/experiments/runs/rnn_base/ckpts/seed1.ckpt\n"
     ]
    },
    {
     "name": "stdout",
     "output_type": "stream",
     "text": [
      "\n",
      "Predicting DataLoader 0: 100%|██████████| 35/35 [00:00<00:00, 52.59it/s]"
     ]
    },
    {
     "name": "stderr",
     "output_type": "stream",
     "text": [
      "Restoring states from the checkpoint path at ../logs/experiments/runs/rnn_base/ckpts/seed2.ckpt\n",
      "LOCAL_RANK: 0 - CUDA_VISIBLE_DEVICES: [0,1,2]\n",
      "Loaded model weights from checkpoint at ../logs/experiments/runs/rnn_base/ckpts/seed2.ckpt\n"
     ]
    },
    {
     "name": "stdout",
     "output_type": "stream",
     "text": [
      "\n",
      "Predicting DataLoader 0: 100%|██████████| 35/35 [00:00<00:00, 51.84it/s]"
     ]
    },
    {
     "name": "stderr",
     "output_type": "stream",
     "text": [
      "Restoring states from the checkpoint path at ../logs/experiments/runs/rnn_base/ckpts/seed3.ckpt\n",
      "LOCAL_RANK: 0 - CUDA_VISIBLE_DEVICES: [0,1,2]\n",
      "Loaded model weights from checkpoint at ../logs/experiments/runs/rnn_base/ckpts/seed3.ckpt\n"
     ]
    },
    {
     "name": "stdout",
     "output_type": "stream",
     "text": [
      "\n",
      "Predicting DataLoader 0: 100%|██████████| 35/35 [00:00<00:00, 53.87it/s]"
     ]
    },
    {
     "name": "stderr",
     "output_type": "stream",
     "text": [
      "Restoring states from the checkpoint path at ../logs/experiments/runs/rnn_base/ckpts/seed4.ckpt\n",
      "LOCAL_RANK: 0 - CUDA_VISIBLE_DEVICES: [0,1,2]\n",
      "Loaded model weights from checkpoint at ../logs/experiments/runs/rnn_base/ckpts/seed4.ckpt\n"
     ]
    },
    {
     "name": "stdout",
     "output_type": "stream",
     "text": [
      "\n",
      "Predicting DataLoader 0: 100%|██████████| 35/35 [00:00<00:00, 59.32it/s] "
     ]
    },
    {
     "name": "stderr",
     "output_type": "stream",
     "text": [
      "Restoring states from the checkpoint path at ../logs/experiments/runs/rnn_base/ckpts/seed5.ckpt\n",
      "LOCAL_RANK: 0 - CUDA_VISIBLE_DEVICES: [0,1,2]\n",
      "Loaded model weights from checkpoint at ../logs/experiments/runs/rnn_base/ckpts/seed5.ckpt\n"
     ]
    },
    {
     "name": "stdout",
     "output_type": "stream",
     "text": [
      "\n",
      "Predicting DataLoader 0: 100%|██████████| 35/35 [00:00<00:00, 51.24it/s]"
     ]
    },
    {
     "name": "stderr",
     "output_type": "stream",
     "text": [
      "Restoring states from the checkpoint path at ../logs/experiments/runs/rnn_base/ckpts/seed6.ckpt\n",
      "LOCAL_RANK: 0 - CUDA_VISIBLE_DEVICES: [0,1,2]\n",
      "Loaded model weights from checkpoint at ../logs/experiments/runs/rnn_base/ckpts/seed6.ckpt\n"
     ]
    },
    {
     "name": "stdout",
     "output_type": "stream",
     "text": [
      "\n",
      "Predicting DataLoader 0: 100%|██████████| 35/35 [00:00<00:00, 52.10it/s]"
     ]
    },
    {
     "name": "stderr",
     "output_type": "stream",
     "text": [
      "Restoring states from the checkpoint path at ../logs/experiments/runs/rnn_base/ckpts/seed7.ckpt\n",
      "LOCAL_RANK: 0 - CUDA_VISIBLE_DEVICES: [0,1,2]\n",
      "Loaded model weights from checkpoint at ../logs/experiments/runs/rnn_base/ckpts/seed7.ckpt\n"
     ]
    },
    {
     "name": "stdout",
     "output_type": "stream",
     "text": [
      "\n",
      "Predicting DataLoader 0: 100%|██████████| 35/35 [00:00<00:00, 48.93it/s]"
     ]
    },
    {
     "name": "stderr",
     "output_type": "stream",
     "text": [
      "Restoring states from the checkpoint path at ../logs/experiments/runs/rnn_base/ckpts/seed8.ckpt\n",
      "LOCAL_RANK: 0 - CUDA_VISIBLE_DEVICES: [0,1,2]\n",
      "Loaded model weights from checkpoint at ../logs/experiments/runs/rnn_base/ckpts/seed8.ckpt\n"
     ]
    },
    {
     "name": "stdout",
     "output_type": "stream",
     "text": [
      "\n",
      "Predicting DataLoader 0: 100%|██████████| 35/35 [00:00<00:00, 56.10it/s]"
     ]
    },
    {
     "name": "stderr",
     "output_type": "stream",
     "text": [
      "Restoring states from the checkpoint path at ../logs/experiments/runs/rnn_base/ckpts/seed9.ckpt\n",
      "LOCAL_RANK: 0 - CUDA_VISIBLE_DEVICES: [0,1,2]\n",
      "Loaded model weights from checkpoint at ../logs/experiments/runs/rnn_base/ckpts/seed9.ckpt\n"
     ]
    },
    {
     "name": "stdout",
     "output_type": "stream",
     "text": [
      "\n",
      "Predicting DataLoader 0: 100%|██████████| 35/35 [00:00<00:00, 57.01it/s] \n"
     ]
    }
   ],
   "source": [
    "model = BaseNet(RNN())\n",
    "dm = BaseDataModule(test_dir=\"/data/project/danyoung/deeputr-termproj/data/test_mac.csv\")\n",
    "trainer = pl.Trainer(gpus=[1])\n",
    "ckpts = [f\"../logs/experiments/runs/rnn_base/ckpts/seed{seed}.ckpt\" for seed in range(10)]\n",
    "\n",
    "preds, targets = get_ensemble_pred(model, dm, trainer, ckpts)\n",
    "a, b, c, d = evaluate(preds, targets)\n",
    "per_reporter_rmses.append(a)\n",
    "per_reporter_corrs.append(b) \n",
    "per_timepoint_rmses.append(c)\n",
    "per_timepoint_corrs.append(d)"
   ]
  },
  {
   "cell_type": "code",
   "execution_count": 11,
   "metadata": {
    "collapsed": true,
    "jupyter": {
     "outputs_hidden": true
    }
   },
   "outputs": [
    {
     "name": "stderr",
     "output_type": "stream",
     "text": [
      "/data/project/danyoung/miniconda3/envs/dream/lib/python3.8/site-packages/pytorch_lightning/loops/utilities.py:91: PossibleUserWarning: `max_epochs` was not set. Setting it to 1000 epochs. To train without an epoch limit, set `max_epochs=-1`.\n",
      "  rank_zero_warn(\n",
      "GPU available: True, used: True\n",
      "TPU available: False, using: 0 TPU cores\n",
      "IPU available: False, using: 0 IPUs\n",
      "HPU available: False, using: 0 HPUs\n",
      "Restoring states from the checkpoint path at ../logs/experiments/runs/cnnrnntrfm_base/ckpts/seed0.ckpt\n",
      "LOCAL_RANK: 0 - CUDA_VISIBLE_DEVICES: [0,1,2]\n",
      "Loaded model weights from checkpoint at ../logs/experiments/runs/cnnrnntrfm_base/ckpts/seed0.ckpt\n"
     ]
    },
    {
     "name": "stdout",
     "output_type": "stream",
     "text": [
      "Predicting DataLoader 0:  11%|█▏        | 4/35 [00:00<00:01, 15.71it/s]"
     ]
    },
    {
     "name": "stderr",
     "output_type": "stream",
     "text": [
      "/data/project/danyoung/miniconda3/envs/dream/lib/python3.8/site-packages/torch/nn/modules/conv.py:298: UserWarning: Using padding='same' with even kernel lengths and odd dilation may require a zero-padded copy of the input be created (Triggered internally at  /opt/conda/conda-bld/pytorch_1646755903507/work/aten/src/ATen/native/Convolution.cpp:744.)\n",
      "  return F.conv1d(input, weight, bias, self.stride,\n"
     ]
    },
    {
     "name": "stdout",
     "output_type": "stream",
     "text": [
      "Predicting DataLoader 0: 100%|██████████| 35/35 [00:01<00:00, 30.94it/s]\n"
     ]
    },
    {
     "name": "stderr",
     "output_type": "stream",
     "text": [
      "Restoring states from the checkpoint path at ../logs/experiments/runs/cnnrnntrfm_base/ckpts/seed1.ckpt\n",
      "LOCAL_RANK: 0 - CUDA_VISIBLE_DEVICES: [0,1,2]\n",
      "Loaded model weights from checkpoint at ../logs/experiments/runs/cnnrnntrfm_base/ckpts/seed1.ckpt\n"
     ]
    },
    {
     "name": "stdout",
     "output_type": "stream",
     "text": [
      "Predicting DataLoader 0: 100%|██████████| 35/35 [00:01<00:00, 26.39it/s]\n"
     ]
    },
    {
     "name": "stderr",
     "output_type": "stream",
     "text": [
      "Restoring states from the checkpoint path at ../logs/experiments/runs/cnnrnntrfm_base/ckpts/seed2.ckpt\n",
      "LOCAL_RANK: 0 - CUDA_VISIBLE_DEVICES: [0,1,2]\n",
      "Loaded model weights from checkpoint at ../logs/experiments/runs/cnnrnntrfm_base/ckpts/seed2.ckpt\n"
     ]
    },
    {
     "name": "stdout",
     "output_type": "stream",
     "text": [
      "Predicting DataLoader 0: 100%|██████████| 35/35 [00:01<00:00, 23.57it/s]"
     ]
    },
    {
     "name": "stderr",
     "output_type": "stream",
     "text": [
      "Restoring states from the checkpoint path at ../logs/experiments/runs/cnnrnntrfm_base/ckpts/seed3.ckpt\n"
     ]
    },
    {
     "name": "stdout",
     "output_type": "stream",
     "text": [
      "\n"
     ]
    },
    {
     "name": "stderr",
     "output_type": "stream",
     "text": [
      "LOCAL_RANK: 0 - CUDA_VISIBLE_DEVICES: [0,1,2]\n",
      "Loaded model weights from checkpoint at ../logs/experiments/runs/cnnrnntrfm_base/ckpts/seed3.ckpt\n"
     ]
    },
    {
     "name": "stdout",
     "output_type": "stream",
     "text": [
      "Predicting DataLoader 0: 100%|██████████| 35/35 [00:01<00:00, 29.85it/s]"
     ]
    },
    {
     "name": "stderr",
     "output_type": "stream",
     "text": [
      "Restoring states from the checkpoint path at ../logs/experiments/runs/cnnrnntrfm_base/ckpts/seed4.ckpt\n"
     ]
    },
    {
     "name": "stdout",
     "output_type": "stream",
     "text": [
      "\n"
     ]
    },
    {
     "name": "stderr",
     "output_type": "stream",
     "text": [
      "LOCAL_RANK: 0 - CUDA_VISIBLE_DEVICES: [0,1,2]\n",
      "Loaded model weights from checkpoint at ../logs/experiments/runs/cnnrnntrfm_base/ckpts/seed4.ckpt\n"
     ]
    },
    {
     "name": "stdout",
     "output_type": "stream",
     "text": [
      "Predicting DataLoader 0: 100%|██████████| 35/35 [00:01<00:00, 29.97it/s]"
     ]
    },
    {
     "name": "stderr",
     "output_type": "stream",
     "text": [
      "Restoring states from the checkpoint path at ../logs/experiments/runs/cnnrnntrfm_base/ckpts/seed5.ckpt\n"
     ]
    },
    {
     "name": "stdout",
     "output_type": "stream",
     "text": [
      "\n"
     ]
    },
    {
     "name": "stderr",
     "output_type": "stream",
     "text": [
      "LOCAL_RANK: 0 - CUDA_VISIBLE_DEVICES: [0,1,2]\n",
      "Loaded model weights from checkpoint at ../logs/experiments/runs/cnnrnntrfm_base/ckpts/seed5.ckpt\n"
     ]
    },
    {
     "name": "stdout",
     "output_type": "stream",
     "text": [
      "Predicting DataLoader 0: 100%|██████████| 35/35 [00:01<00:00, 27.74it/s]"
     ]
    },
    {
     "name": "stderr",
     "output_type": "stream",
     "text": [
      "Restoring states from the checkpoint path at ../logs/experiments/runs/cnnrnntrfm_base/ckpts/seed6.ckpt\n"
     ]
    },
    {
     "name": "stdout",
     "output_type": "stream",
     "text": [
      "\n"
     ]
    },
    {
     "name": "stderr",
     "output_type": "stream",
     "text": [
      "LOCAL_RANK: 0 - CUDA_VISIBLE_DEVICES: [0,1,2]\n",
      "Loaded model weights from checkpoint at ../logs/experiments/runs/cnnrnntrfm_base/ckpts/seed6.ckpt\n"
     ]
    },
    {
     "name": "stdout",
     "output_type": "stream",
     "text": [
      "Predicting DataLoader 0: 100%|██████████| 35/35 [00:01<00:00, 26.79it/s]"
     ]
    },
    {
     "name": "stderr",
     "output_type": "stream",
     "text": [
      "Restoring states from the checkpoint path at ../logs/experiments/runs/cnnrnntrfm_base/ckpts/seed7.ckpt\n"
     ]
    },
    {
     "name": "stdout",
     "output_type": "stream",
     "text": [
      "\n"
     ]
    },
    {
     "name": "stderr",
     "output_type": "stream",
     "text": [
      "LOCAL_RANK: 0 - CUDA_VISIBLE_DEVICES: [0,1,2]\n",
      "Loaded model weights from checkpoint at ../logs/experiments/runs/cnnrnntrfm_base/ckpts/seed7.ckpt\n"
     ]
    },
    {
     "name": "stdout",
     "output_type": "stream",
     "text": [
      "Predicting DataLoader 0: 100%|██████████| 35/35 [00:01<00:00, 30.79it/s]"
     ]
    },
    {
     "name": "stderr",
     "output_type": "stream",
     "text": [
      "Restoring states from the checkpoint path at ../logs/experiments/runs/cnnrnntrfm_base/ckpts/seed8.ckpt\n"
     ]
    },
    {
     "name": "stdout",
     "output_type": "stream",
     "text": [
      "\n"
     ]
    },
    {
     "name": "stderr",
     "output_type": "stream",
     "text": [
      "LOCAL_RANK: 0 - CUDA_VISIBLE_DEVICES: [0,1,2]\n",
      "Loaded model weights from checkpoint at ../logs/experiments/runs/cnnrnntrfm_base/ckpts/seed8.ckpt\n"
     ]
    },
    {
     "name": "stdout",
     "output_type": "stream",
     "text": [
      "Predicting DataLoader 0: 100%|██████████| 35/35 [00:01<00:00, 34.45it/s]"
     ]
    },
    {
     "name": "stderr",
     "output_type": "stream",
     "text": [
      "Restoring states from the checkpoint path at ../logs/experiments/runs/cnnrnntrfm_base/ckpts/seed9.ckpt\n"
     ]
    },
    {
     "name": "stdout",
     "output_type": "stream",
     "text": [
      "\n"
     ]
    },
    {
     "name": "stderr",
     "output_type": "stream",
     "text": [
      "LOCAL_RANK: 0 - CUDA_VISIBLE_DEVICES: [0,1,2]\n",
      "Loaded model weights from checkpoint at ../logs/experiments/runs/cnnrnntrfm_base/ckpts/seed9.ckpt\n"
     ]
    },
    {
     "name": "stdout",
     "output_type": "stream",
     "text": [
      "Predicting DataLoader 0: 100%|██████████| 35/35 [00:01<00:00, 27.54it/s]\n"
     ]
    }
   ],
   "source": [
    "model = BaseNet(CNNRNNTRFM())\n",
    "dm = BaseDataModule(test_dir=\"/data/project/danyoung/deeputr-termproj/data/test_mac.csv\")\n",
    "trainer = pl.Trainer(gpus=[1])\n",
    "ckpts = [f\"../logs/experiments/runs/cnnrnntrfm_base/ckpts/seed{seed}.ckpt\" for seed in range(10)]\n",
    "\n",
    "preds, targets = get_ensemble_pred(model, dm, trainer, ckpts)\n",
    "a, b, c, d = evaluate(preds, targets)\n",
    "per_reporter_rmses.append(a)\n",
    "per_reporter_corrs.append(b) \n",
    "per_timepoint_rmses.append(c)\n",
    "per_timepoint_corrs.append(d)"
   ]
  },
  {
   "cell_type": "code",
   "execution_count": 25,
   "metadata": {},
   "outputs": [],
   "source": [
    "per_reporter_rmses = per_reporter_rmses[:4]\n",
    "per_reporter_corrs = per_reporter_corrs[:4]\n",
    "per_timepoint_rmses = per_timepoint_rmses[:4]\n",
    "per_timepoint_corrs = per_timepoint_corrs[:4]"
   ]
  },
  {
   "cell_type": "code",
   "execution_count": 26,
   "metadata": {
    "collapsed": true,
    "jupyter": {
     "outputs_hidden": true
    }
   },
   "outputs": [
    {
     "name": "stderr",
     "output_type": "stream",
     "text": [
      "/data/project/danyoung/miniconda3/envs/dream/lib/python3.8/site-packages/pytorch_lightning/loops/utilities.py:91: PossibleUserWarning: `max_epochs` was not set. Setting it to 1000 epochs. To train without an epoch limit, set `max_epochs=-1`.\n",
      "  rank_zero_warn(\n",
      "GPU available: True, used: True\n",
      "TPU available: False, using: 0 TPU cores\n",
      "IPU available: False, using: 0 IPUs\n",
      "HPU available: False, using: 0 HPUs\n",
      "Restoring states from the checkpoint path at ../logs/experiments/runs/cnntrfm-pe2-pool1/ckpts/seed0.ckpt\n",
      "LOCAL_RANK: 0 - CUDA_VISIBLE_DEVICES: [0,1,2]\n",
      "Loaded model weights from checkpoint at ../logs/experiments/runs/cnntrfm-pe2-pool1/ckpts/seed0.ckpt\n"
     ]
    },
    {
     "name": "stdout",
     "output_type": "stream",
     "text": [
      "Predicting DataLoader 0: 100%|██████████| 35/35 [00:01<00:00, 29.40it/s]"
     ]
    },
    {
     "name": "stderr",
     "output_type": "stream",
     "text": [
      "Restoring states from the checkpoint path at ../logs/experiments/runs/cnntrfm-pe2-pool1/ckpts/seed1.ckpt\n",
      "LOCAL_RANK: 0 - CUDA_VISIBLE_DEVICES: [0,1,2]\n",
      "Loaded model weights from checkpoint at ../logs/experiments/runs/cnntrfm-pe2-pool1/ckpts/seed1.ckpt\n"
     ]
    },
    {
     "name": "stdout",
     "output_type": "stream",
     "text": [
      "\n",
      "Predicting DataLoader 0: 100%|██████████| 35/35 [00:01<00:00, 28.31it/s]"
     ]
    },
    {
     "name": "stderr",
     "output_type": "stream",
     "text": [
      "Restoring states from the checkpoint path at ../logs/experiments/runs/cnntrfm-pe2-pool1/ckpts/seed2.ckpt\n",
      "LOCAL_RANK: 0 - CUDA_VISIBLE_DEVICES: [0,1,2]\n",
      "Loaded model weights from checkpoint at ../logs/experiments/runs/cnntrfm-pe2-pool1/ckpts/seed2.ckpt\n"
     ]
    },
    {
     "name": "stdout",
     "output_type": "stream",
     "text": [
      "\n",
      "Predicting DataLoader 0: 100%|██████████| 35/35 [00:01<00:00, 25.75it/s]"
     ]
    },
    {
     "name": "stderr",
     "output_type": "stream",
     "text": [
      "Restoring states from the checkpoint path at ../logs/experiments/runs/cnntrfm-pe2-pool1/ckpts/seed3.ckpt\n",
      "LOCAL_RANK: 0 - CUDA_VISIBLE_DEVICES: [0,1,2]\n",
      "Loaded model weights from checkpoint at ../logs/experiments/runs/cnntrfm-pe2-pool1/ckpts/seed3.ckpt\n"
     ]
    },
    {
     "name": "stdout",
     "output_type": "stream",
     "text": [
      "\n",
      "Predicting DataLoader 0: 100%|██████████| 35/35 [00:01<00:00, 28.91it/s]"
     ]
    },
    {
     "name": "stderr",
     "output_type": "stream",
     "text": [
      "Restoring states from the checkpoint path at ../logs/experiments/runs/cnntrfm-pe2-pool1/ckpts/seed4.ckpt\n",
      "LOCAL_RANK: 0 - CUDA_VISIBLE_DEVICES: [0,1,2]\n",
      "Loaded model weights from checkpoint at ../logs/experiments/runs/cnntrfm-pe2-pool1/ckpts/seed4.ckpt\n"
     ]
    },
    {
     "name": "stdout",
     "output_type": "stream",
     "text": [
      "\n",
      "Predicting DataLoader 0: 100%|██████████| 35/35 [00:01<00:00, 30.61it/s]"
     ]
    },
    {
     "name": "stderr",
     "output_type": "stream",
     "text": [
      "Restoring states from the checkpoint path at ../logs/experiments/runs/cnntrfm-pe2-pool1/ckpts/seed5.ckpt\n",
      "LOCAL_RANK: 0 - CUDA_VISIBLE_DEVICES: [0,1,2]\n",
      "Loaded model weights from checkpoint at ../logs/experiments/runs/cnntrfm-pe2-pool1/ckpts/seed5.ckpt\n"
     ]
    },
    {
     "name": "stdout",
     "output_type": "stream",
     "text": [
      "\n",
      "Predicting DataLoader 0: 100%|██████████| 35/35 [00:01<00:00, 30.65it/s]"
     ]
    },
    {
     "name": "stderr",
     "output_type": "stream",
     "text": [
      "Restoring states from the checkpoint path at ../logs/experiments/runs/cnntrfm-pe2-pool1/ckpts/seed6.ckpt\n"
     ]
    },
    {
     "name": "stdout",
     "output_type": "stream",
     "text": [
      "\n"
     ]
    },
    {
     "name": "stderr",
     "output_type": "stream",
     "text": [
      "LOCAL_RANK: 0 - CUDA_VISIBLE_DEVICES: [0,1,2]\n",
      "Loaded model weights from checkpoint at ../logs/experiments/runs/cnntrfm-pe2-pool1/ckpts/seed6.ckpt\n"
     ]
    },
    {
     "name": "stdout",
     "output_type": "stream",
     "text": [
      "Predicting DataLoader 0: 100%|██████████| 35/35 [00:01<00:00, 30.86it/s]"
     ]
    },
    {
     "name": "stderr",
     "output_type": "stream",
     "text": [
      "Restoring states from the checkpoint path at ../logs/experiments/runs/cnntrfm-pe2-pool1/ckpts/seed7.ckpt\n",
      "LOCAL_RANK: 0 - CUDA_VISIBLE_DEVICES: [0,1,2]\n",
      "Loaded model weights from checkpoint at ../logs/experiments/runs/cnntrfm-pe2-pool1/ckpts/seed7.ckpt\n"
     ]
    },
    {
     "name": "stdout",
     "output_type": "stream",
     "text": [
      "\n",
      "Predicting DataLoader 0: 100%|██████████| 35/35 [00:01<00:00, 30.82it/s]"
     ]
    },
    {
     "name": "stderr",
     "output_type": "stream",
     "text": [
      "Restoring states from the checkpoint path at ../logs/experiments/runs/cnntrfm-pe2-pool1/ckpts/seed8.ckpt\n",
      "LOCAL_RANK: 0 - CUDA_VISIBLE_DEVICES: [0,1,2]\n",
      "Loaded model weights from checkpoint at ../logs/experiments/runs/cnntrfm-pe2-pool1/ckpts/seed8.ckpt\n"
     ]
    },
    {
     "name": "stdout",
     "output_type": "stream",
     "text": [
      "\n",
      "Predicting DataLoader 0: 100%|██████████| 35/35 [00:01<00:00, 31.44it/s]"
     ]
    },
    {
     "name": "stderr",
     "output_type": "stream",
     "text": [
      "Restoring states from the checkpoint path at ../logs/experiments/runs/cnntrfm-pe2-pool1/ckpts/seed9.ckpt\n",
      "LOCAL_RANK: 0 - CUDA_VISIBLE_DEVICES: [0,1,2]\n",
      "Loaded model weights from checkpoint at ../logs/experiments/runs/cnntrfm-pe2-pool1/ckpts/seed9.ckpt\n"
     ]
    },
    {
     "name": "stdout",
     "output_type": "stream",
     "text": [
      "\n",
      "Predicting DataLoader 0: 100%|██████████| 35/35 [00:01<00:00, 31.98it/s]\n"
     ]
    }
   ],
   "source": [
    "model = BaseNet(CNNTRFM_PE2(pool_size=1))\n",
    "dm = BaseDataModule(test_dir=\"/data/project/danyoung/deeputr-termproj/data/test_mac.csv\")\n",
    "trainer = pl.Trainer(gpus=[1])\n",
    "ckpts = [f\"../logs/experiments/runs/cnntrfm-pe2-pool1/ckpts/seed{seed}.ckpt\" for seed in range(10)]\n",
    "\n",
    "preds, targets = get_ensemble_pred(model, dm, trainer, ckpts)\n",
    "a, b, c, d = evaluate(preds, targets)\n",
    "per_reporter_rmses.append(a)\n",
    "per_reporter_corrs.append(b) \n",
    "per_timepoint_rmses.append(c)\n",
    "per_timepoint_corrs.append(d)"
   ]
  },
  {
   "cell_type": "code",
   "execution_count": 32,
   "metadata": {},
   "outputs": [
    {
     "name": "stdout",
     "output_type": "stream",
     "text": [
      "Using zero_method  wilcox\n",
      "Using zero_method  wilcox\n",
      "Using zero_method  wilcox\n",
      "Using zero_method  wilcox\n",
      "Using zero_method  wilcox\n",
      "Using zero_method  pratt\n",
      "Using zero_method  pratt\n",
      "Using zero_method  pratt\n",
      "Using zero_method  pratt\n",
      "Using zero_method  pratt\n"
     ]
    },
    {
     "data": {
      "image/png": "[encoded data removed]",
      "text/plain": [
       "<Figure size 504x792 with 2 Axes>"
      ]
     },
     "metadata": {
      "needs_background": "light"
     },
     "output_type": "display_data"
    }
   ],
   "source": [
    "prr_df = pd.DataFrame(np.array(per_reporter_rmses).T, columns=[\"CNN\", \"DeepFam\", \"RNN\", \"CNN+RNN+TRFM\", \"CNN+TRFM+PE\"])\n",
    "ptc_df = pd.DataFrame(np.array(per_timepoint_corrs).T, columns=[\"CNN\", \"DeepFam\", \"RNN\", \"CNN+RNN+TRFM\", \"CNN+TRFM+PE\"])\n",
    "order = [\"CNN\", \"DeepFam\", \"RNN\", \"CNN+RNN+TRFM\", \"CNN+TRFM+PE\"]\n",
    "\n",
    "fig = plt.figure(figsize=(7, 11))\n",
    "# Per reporter RMSE\n",
    "ax = fig.add_subplot(211)\n",
    "ax.set_title(\"per-reporter-RMSE\")\n",
    "ax.set_ylabel(\"RMSE\")\n",
    "ax.set_ylim([0, 1.6])\n",
    "sns.boxplot(data=prr_df, showmeans=True, fliersize=0, \n",
    "            width=0.4,\n",
    "            meanprops={\"markerfacecolor\":\"white\", \"markeredgecolor\":\"black\"}, ax=ax)\n",
    "\n",
    "add_stat_annotation(ax, data=prr_df,\n",
    "                    box_pairs=[(\"CNN\", \"DeepFam\"), (\"DeepFam\", \"CNN+TRFM+PE\"), (\"RNN\", \"CNN+RNN+TRFM\"), (\"RNN\",\"CNN+TRFM+PE\"), (\"CNN+TRFM+PE\", \"CNN+RNN+TRFM\")],\n",
    "                    test=\"Wilcoxon\", text_format=\"star\", loc=\"inside\", verbose=0, line_offset_to_box=-0.7\n",
    "                   )\n",
    "\n",
    "for i, model in enumerate(order):\n",
    "    mean = prr_df.mean()[model]\n",
    "    ax.text(x=i, y=mean, s=str(mean)[:5], weight=\"bold\")\n",
    "\n",
    "# Per timepoint corr\n",
    "ax = fig.add_subplot(212)\n",
    "ax.set_title(\"per-timepoint-correlation\")\n",
    "ax.set_ylabel(\"Pearson correlation\")\n",
    "sns.boxplot(data=ptc_df, showmeans=True, fliersize=0,\n",
    "            width=0.4,\n",
    "            meanprops={\"markerfacecolor\":\"white\", \"markeredgecolor\":\"black\"}, ax=ax)\n",
    "add_stat_annotation(ax, data=ptc_df,\n",
    "                    box_pairs=[(\"CNN\", \"DeepFam\"), (\"DeepFam\", \"CNN+TRFM+PE\"), (\"RNN\", \"CNN+RNN+TRFM\"), (\"RNN\", \"CNN+TRFM+PE\"), (\"CNN+TRFM+PE\", \"CNN+RNN+TRFM\")],\n",
    "                    test=\"Wilcoxon\", text_format=\"star\", loc=\"inside\", verbose=0\n",
    "                   )\n",
    "for i, model in enumerate(order):\n",
    "    mean = ptc_df.mean()[model]\n",
    "    ax.text(x=i, y=mean, s=str(mean)[:5], weight=\"bold\")\n",
    "\n",
    "fig.tight_layout()\n",
    "plt.savefig(\"../boxplot.png\", dpi=300, facecolor=\"w\")"
   ]
  },
  {
   "cell_type": "code",
   "execution_count": 28,
   "metadata": {},
   "outputs": [
    {
     "data": {
      "image/png": "[encoded data removed]",
      "text/plain": [
       "<Figure size 576x576 with 2 Axes>"
      ]
     },
     "metadata": {
      "needs_background": "light"
     },
     "output_type": "display_data"
    }
   ],
   "source": [
    "ptr_df = pd.DataFrame(np.array(per_timepoint_rmses).T, columns=[\"CNN\", \"DeepFam\", \"RNN\", \"CNN+RNN+TRFM\", \"CNN+TRFM+PE\"])\n",
    "ptr_df.index = [f\"{i}hpf\" for i in range(2, 9)] + [\"10hpf\"]\n",
    "ptc_df = pd.DataFrame(np.array(per_timepoint_corrs).T, columns=[\"CNN\", \"DeepFam\", \"RNN\", \"CNN+RNN+TRFM\", \"CNN+TRFM+PE\"])\n",
    "ptc_df.index = [f\"{i}hpf\" for i in range(2, 9)] + [\"10hpf\"]\n",
    "\n",
    "fig = plt.figure(figsize=(8, 8))\n",
    "ax = fig.add_subplot(211)\n",
    "ax.set_title(\"per-timepoint-RMSE\")\n",
    "ax.set_ylabel(\"RMSE\")\n",
    "ptr_df.plot.bar(ax=ax)\n",
    "plt.xticks(rotation=0)\n",
    "\n",
    "ax = fig.add_subplot(212)\n",
    "ax.set_title(\"per-timepoint-correlation\")\n",
    "ax.set_ylabel(\"Pearson correlation\")\n",
    "ptc_df.plot.bar(ax=ax, legend=False)\n",
    "\n",
    "plt.xticks(rotation=0)\n",
    "\n",
    "fig.tight_layout()\n",
    "plt.savefig(\"../barplot.png\", dpi=300, facecolor=\"w\")"
   ]
  },
  {
   "cell_type": "code",
   "execution_count": null,
   "metadata": {},
   "outputs": [],
   "source": []
  },
  {
   "cell_type": "code",
   "execution_count": null,
   "metadata": {},
   "outputs": [],
   "source": []
  }
 ],
 "metadata": {
  "kernelspec": {
   "display_name": "dream",
   "language": "python",
   "name": "dream"
  },
  "language_info": {
   "codemirror_mode": {
    "name": "ipython",
    "version": 3
   },
   "file_extension": ".py",
   "mimetype": "text/x-python",
   "name": "python",
   "nbconvert_exporter": "python",
   "pygments_lexer": "ipython3",
   "version": "3.8.12"
  }
 },
 "nbformat": 4,
 "nbformat_minor": 4
}
